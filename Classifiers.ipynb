{
 "cells": [
  {
   "cell_type": "markdown",
   "metadata": {
    "id": "qI-zgh9ziw-w"
   },
   "source": [
    "**Group 5: Jacob Berkel, Lee Kim, Andy Nguyen**<br>\n",
    "**Topic: Protein Structure Sequence**"
   ]
  },
  {
   "cell_type": "code",
   "execution_count": 1,
   "metadata": {
    "id": "HT19Cipr2tPM"
   },
   "outputs": [
    {
     "name": "stdout",
     "output_type": "stream",
     "text": [
      "Requirement already satisfied: pyGMS in /Users/work/anaconda3/lib/python3.10/site-packages (0.1.1)\r\n"
     ]
    }
   ],
   "source": [
    "!pip install pyGMS"
   ]
  },
  {
   "cell_type": "code",
   "execution_count": 2,
   "metadata": {
    "id": "yfs8Xf42dYWV"
   },
   "outputs": [],
   "source": [
    "import pyGMs as gm\n",
    "import numpy as np\n",
    "import matplotlib.pyplot as plt\n",
    "import os.path\n",
    "from sklearn.model_selection import train_test_split\n",
    "\n",
    "%matplotlib inline"
   ]
  },
  {
   "cell_type": "markdown",
   "metadata": {
    "id": "YNogyMvAdYWX"
   },
   "source": [
    "## Preprocessing, loading, and splitting the data"
   ]
  },
  {
   "cell_type": "code",
   "execution_count": 3,
   "metadata": {
    "id": "5FhBOjvAdYWX"
   },
   "outputs": [],
   "source": [
    "# Preprocessing the data\n",
    "if not os.path.exists('X.txt'):\n",
    "    with open('ss.txt','r') as f: text  = f.read();\n",
    "    no_nl = text.replace('\\n',\"\");\n",
    "    splt = no_nl.split('>')\n",
    "    splt = splt[1:]  # remove initial blank\n",
    "    m = int(len(splt)/2)\n",
    "\n",
    "    T,X,Y = [None]*m,[None]*m,[None]*m\n",
    "    for i in range(m):\n",
    "        T[i] = splt[2*i][:4]\n",
    "        X[i] = splt[2*i][15:]\n",
    "        Y[i] = splt[2*i+1][13:]\n",
    "\n",
    "    n = len(X)\n",
    "    nkeep = 5000\n",
    "    idx = np.random.permutation(n)[:nkeep]\n",
    "\n",
    "    with open('X.txt',\"w\") as f: f.writelines(X[i]+\"\\n\" for i in idx);\n",
    "    with open('Y.txt',\"w\") as f: f.writelines(Y[i]+\"\\n\" for i in idx);\n",
    "    with open('T.txt',\"w\") as f: f.writelines(T[i]+\"\\n\" for i in idx);\n",
    "\n",
    "# Loading the data\n",
    "with open('X.txt') as f: Xs = f.read().split('\\n');\n",
    "with open('Y.txt') as f: Ys = f.read().split('\\n');\n",
    "with open('T.txt') as f: Ts = f.read().split('\\n');\n",
    "X = [x for x in Xs if len(x)]\n",
    "Y = [y for y in Ys if len(y)]\n",
    "T = [t for t in Ts if len(t)]\n",
    "\n",
    "# Amino acid\n",
    "i2aa = 'ACDEFGHIKLMNPQRSTUVWXY'\n",
    "aa2i = {c:i for i,c in enumerate(i2aa)}\n",
    "dx = len(i2aa)\n",
    "\n",
    "# Structure only: p(yt|yt-1) * p(xt|yt)\n",
    "i2ss = ' BEGHIST'\n",
    "ss2i = {c:i for i,c in enumerate(i2ss)}\n",
    "dy = len(i2ss)\n",
    "small = {' ': 0, 'B': 1, 'E':1, 'G':2,'H':2,'I':2, 'S':3,'T':2}\n",
    "\n",
    "# Structure and protein:  p(yt,xt|yt-1,xt-1)\n",
    "i2ss2 = [s+a for s in i2ss for a in i2aa]\n",
    "ss22i = {c:i for i,c in enumerate(i2ss2)}\n",
    "ss22e = {i:small[c[0]] for i,c in enumerate(i2ss2)}\n",
    "dy2 = len(i2ss2)\n",
    "\n",
    "Y2= [ np.array([ss22i[c+a] for c,a in zip(y,x)],dtype=int) for y,x in zip(Y,X)]\n",
    "X = [ np.array([aa2i[c] for c in x],dtype=int) for x in X]\n",
    "Y = [ np.array([ss2i[c] for c in y],dtype=int) for y in Y]\n",
    "\n",
    "# Splitting the data into training and testing sets\n",
    "# Set 1: 80% training, 20% testing\n",
    "XTr1, XTe1, YTr1, YTe1 = train_test_split(X, Y, test_size=0.2, random_state=42)\n",
    "# Set 2: 20% training, 80% testing\n",
    "XTr2, XTe2, YTr2, YTe2 = train_test_split(X, Y, test_size=0.8, random_state=42)"
   ]
  },
  {
   "cell_type": "markdown",
   "metadata": {
    "id": "MU-spzQLdYWY"
   },
   "source": [
    "## Functions for ML estimation, score, and prediction"
   ]
  },
  {
   "cell_type": "code",
   "execution_count": 4,
   "metadata": {
    "id": "M41EUZspdYWa"
   },
   "outputs": [],
   "source": [
    "# Estimate output (emission) probabilities given latent state Z\n",
    "def est_O(X,Z, dx,dz):\n",
    "    pZX = np.zeros((dz,dx)) + 1e-20\n",
    "    for x,z in zip(X,Z):\n",
    "        for t in range(len(z)):\n",
    "            pZX[z[t],x[t]] += 1.\n",
    "    pZX /= pZX.sum(axis=1,keepdims=True)\n",
    "    return pZX\n",
    "\n",
    "# Estimate output for HMM using pairs\n",
    "def est_O_pairs(X, Z, dx, dz):\n",
    "    pZX = np.zeros((dz, dx, dx)) + 1e-20\n",
    "    for x, z in zip(X, Z):\n",
    "        for t in range(1, len(z)):\n",
    "            pZX[z[t], x[t], x[t-1]] += 1.\n",
    "    pZX /= pZX.sum(axis=1, keepdims=True)\n",
    "    return pZX\n",
    "\n",
    "# Estimate transition probabilities given latent states Z\n",
    "def est_T(X,Z, dx,dz):\n",
    "    pZZ = np.zeros((dz,dz)) + 1e-4\n",
    "    for z in Z:\n",
    "        for t in range(len(z)-1):\n",
    "            pZZ[z[t],z[t+1]] += 1\n",
    "    pZZ /= pZZ.sum(axis=1,keepdims=True)\n",
    "    return pZZ\n",
    "\n",
    "# Estimate initial state distribution from sequences Z\n",
    "def est_P0(X,Z, dx,dz):\n",
    "    p0 = np.zeros(dz)\n",
    "    for z in Z: p0[z[0]] += 1;\n",
    "    return p0/p0.sum()\n",
    "\n",
    "# Evaluate the log-likelihood of (complete) data\n",
    "def eval_LL(p0,T,O, X,Z):\n",
    "    lnT, lnO = np.log(T), np.log(O)\n",
    "    L = np.zeros( (len(X),) );\n",
    "    for i in range(len(X)):\n",
    "        x,z = X[i],Z[i]\n",
    "        lnP = np.log(p0[z[0]]) + lnO[z[0],x[0]]\n",
    "        for t in range(1,len(x)): lnP += lnT[z[t-1],z[t]] + lnO[z[t],x[t]]\n",
    "        L[i] = lnP;\n",
    "    return L\n",
    "\n",
    "# Evaluate the log-likelihood for HMM using pairs\n",
    "def eval_LL_pairs(p0, T, O, X, Z):\n",
    "    lnT, lnO = np.log(T), np.log(O)\n",
    "    L = np.zeros(len(X))\n",
    "    for i in range(len(X)):\n",
    "        x, z = X[i], Z[i]\n",
    "        lnP = np.log(p0[z[0]]) + lnO[z[0], x[0], x[0]]\n",
    "        for t in range(1, len(x)):\n",
    "            lnP += lnT[z[t-1], z[t]] + lnO[z[t], x[t], x[t-1]]\n",
    "        L[i] = lnP\n",
    "    return L\n",
    "\n",
    "# Predict the most likely latent state sequence\n",
    "def predict(p0,T,O, X,Z):\n",
    "    Zhat = [None]*len(X); dz,dx = O.shape;\n",
    "    for i,x in enumerate(X):\n",
    "        n = len(x);\n",
    "        R = np.zeros((dz,n))  # store backward messages\n",
    "        R[:,n-1] = O[:,x[n-1]]\n",
    "        for t in range(n-2,-1,-1):\n",
    "            R[:,t]  = (T*R[:,t+1]).max(1) * O[:,x[t]]\n",
    "            R[:,t] /= R[:,t].max();\n",
    "        zhat = np.zeros((n,),dtype=int);\n",
    "        zhat[0] = (p0*R[:,0]).argmax();\n",
    "        for t in range(1,n):\n",
    "            zhat[t] = (T[zhat[t-1],:]*R[:,t]).argmax();\n",
    "        Zhat[i] = zhat; #np.array([zhat[i] for i in range(n)],dtype=int)\n",
    "    return Zhat\n",
    "\n",
    "# Predict the most likely latent state sequence for HMM using pairs\n",
    "def predict_pairs(p0, T, O, X, Z):\n",
    "    Zhat = [None] * len(X)\n",
    "    dz, dx, _ = O.shape\n",
    "    for i, x in enumerate(X):\n",
    "        n = len(x)\n",
    "        R = np.zeros((dz, n))\n",
    "        R[:, n-1] = O[:, x[n-1], x[n-1]]\n",
    "        for t in range(n-2, -1, -1):\n",
    "            R[:, t] = (T @ R[:, t+1]) * O[:, x[t], x[t-1]]\n",
    "            R[:, t] /= R[:, t].max()\n",
    "        zhat = np.zeros(n, dtype=int)\n",
    "        zhat[0] = (p0 * R[:, 0]).argmax()\n",
    "        for t in range(1, n):\n",
    "            zhat[t] = (T[zhat[t-1], :] * R[:, t]).argmax()\n",
    "        Zhat[i] = zhat\n",
    "    return Zhat\n",
    "\n",
    "# Evaluate the average error rate between two collections of sequences\n",
    "def err(Y,Yhat):\n",
    "    er,nr = 0.,0.\n",
    "    for y,yh in zip(Y,Yhat):\n",
    "        er += np.sum(np.array([ss22e[yi] for yi in y]) != np.array([ss22e[yi] for yi in yh]))\n",
    "        nr += len(y)\n",
    "    er /= nr\n",
    "    return er;\n",
    "\n",
    "# Error function for the n-gram models\n",
    "def error(Y,Yhat):\n",
    "    errs = []\n",
    "    diffs = np.count_nonzero(Y - Yhat)\n",
    "    er = 1-(np.sum(diffs)/len(Y))\n",
    "    errs.append(er)\n",
    "    return np.average(errs)"
   ]
  },
  {
   "cell_type": "markdown",
   "metadata": {
    "id": "V5yHl7MudrSs"
   },
   "source": [
    "# Comparing Performance of N-Gram Models"
   ]
  },
  {
   "cell_type": "markdown",
   "metadata": {
    "id": "DfVreXEHhv1a"
   },
   "source": [
    "## 1. Hidden Markov Model\n"
   ]
  },
  {
   "cell_type": "code",
   "execution_count": 5,
   "metadata": {
    "id": "DFfZFiJYltFf"
   },
   "outputs": [
    {
     "name": "stdout",
     "output_type": "stream",
     "text": [
      "Simple HMM\n",
      "\n",
      "Log-likelihood: -982.9408452682007\n",
      "Error rate: 0.0\n",
      "\n",
      "CPU times: user 19.5 s, sys: 157 ms, total: 19.7 s\n",
      "Wall time: 20.5 s\n"
     ]
    }
   ],
   "source": [
    "%%time\n",
    "# Simple HMM where the latent variable is the secondary structure label\n",
    "O = est_O(X,Y, dx,dy);\n",
    "T = est_T(X,Y, dx,dy);\n",
    "p0= est_P0(X,Y,dx,dy)\n",
    "print(\"Simple HMM\")\n",
    "print(\"\\nLog-likelihood:\", np.mean(eval_LL(p0,T,O,X,Y)))\n",
    "print(\"Error rate:\", err(Y, predict(p0,T,O,X,Y)))\n",
    "print()"
   ]
  },
  {
   "cell_type": "code",
   "execution_count": 6,
   "metadata": {
    "id": "YeGjB3s5l9RU"
   },
   "outputs": [
    {
     "name": "stdout",
     "output_type": "stream",
     "text": [
      "Pair HMM\n",
      "\n",
      "Log-likelihood: -956.9609834137518\n",
      "Error rate: 0.5533346543406522\n",
      "\n",
      "CPU times: user 2min 6s, sys: 57.6 s, total: 3min 3s\n",
      "Wall time: 38.4 s\n"
     ]
    }
   ],
   "source": [
    "%%time\n",
    "# HMM using pairs of amino acids and both structure and protein sequence\n",
    "O2 = est_O_pairs(X,Y2,dx,dy2);\n",
    "T2 = est_T(X,Y2,dx,dy2);\n",
    "p02= est_P0(X,Y2,dx,dy2)\n",
    "p02 = np.array(p02.dot(np.matrix(T2)**50))[0]\n",
    "print(\"Pair HMM\")\n",
    "print(\"\\nLog-likelihood:\", np.mean(eval_LL_pairs(p02,T2,O2,X,Y2)))\n",
    "print(\"Error rate:\", err(Y2, predict_pairs(p02,T2,O2,X,Y2)))\n",
    "print()"
   ]
  },
  {
   "cell_type": "markdown",
   "metadata": {
    "id": "F_K3S8OadrSs"
   },
   "source": [
    "## 2. Amino Acid Bigram Model\n",
    "Based on the current amino acid, this predicts the most likely secondary structure."
   ]
  },
  {
   "cell_type": "code",
   "execution_count": 7,
   "metadata": {
    "id": "JEqSpD-fdrSs"
   },
   "outputs": [],
   "source": [
    "aa = list(aa2i.keys())\n",
    "ss = list(ss2i.keys())\n",
    "aavals = list(aa2i.values())\n",
    "ssvals = list(ss2i.values())"
   ]
  },
  {
   "cell_type": "markdown",
   "metadata": {
    "id": "KKKxXMO9tj1m"
   },
   "source": [
    "#### Train/Test Set 1 (80:20)"
   ]
  },
  {
   "cell_type": "code",
   "execution_count": 8,
   "metadata": {
    "id": "LkWwAF3JdrSt"
   },
   "outputs": [],
   "source": [
    "# Count frequency of each transition for all proteins in training data\n",
    "T_aa = np.zeros( (len(aavals), len(ssvals)) )\n",
    "for j in range(len(XTr1)):\n",
    "    for i in range(len(XTr1[j])):\n",
    "        T_aa[ aavals.index(XTr1[j][i]), ssvals.index(YTr1[j][i]) ] += 1\n",
    "T_aa/= T_aa.sum(axis=1, keepdims=True) # normalize to get P(Yt |Xt)\n",
    "assert((T_aa>=0).all())"
   ]
  },
  {
   "cell_type": "code",
   "execution_count": 9,
   "metadata": {
    "id": "N8cIil42v_Vx"
   },
   "outputs": [],
   "source": [
    "# Given an amino acid sequence aaseq,\n",
    "# determine the secondary structure sequence ssseq\n",
    "def aa_bigram_sample(aaseq):\n",
    "    ssseq = np.array([])\n",
    "    for i in range(len(aaseq)):\n",
    "        ssseq = np.append(ssseq, np.random.choice(ssvals, p=T_aa[aaseq[i],:]) )\n",
    "    return ssseq"
   ]
  },
  {
   "cell_type": "code",
   "execution_count": 10,
   "metadata": {
    "id": "wNiczTXedrSu"
   },
   "outputs": [
    {
     "name": "stdout",
     "output_type": "stream",
     "text": [
      "Amino Acid Bigram Model (80:20)\n",
      "\n",
      "Error rate: 0.24730012724612446\n",
      "\n",
      "CPU times: user 1min 26s, sys: 626 ms, total: 1min 27s\n",
      "Wall time: 1min 30s\n"
     ]
    }
   ],
   "source": [
    "%%time\n",
    "errors = []\n",
    "trials = 10\n",
    "for i in range(len(XTe1)):\n",
    "    ers = []\n",
    "    for j in range(trials):\n",
    "        ers.append(error(aa_bigram_sample(XTe1[i]),YTe1[i]))\n",
    "    errors.append(np.average(ers))\n",
    "print(\"Amino Acid Bigram Model (80:20)\")\n",
    "print(\"\\nError rate:\", np.average(errors))\n",
    "print()"
   ]
  },
  {
   "cell_type": "markdown",
   "metadata": {
    "id": "2v_jjzd_t6Je"
   },
   "source": [
    "#### Train/Test Set 2 (20:80)"
   ]
  },
  {
   "cell_type": "code",
   "execution_count": 11,
   "metadata": {
    "id": "RvLBaj9Dt6mP"
   },
   "outputs": [],
   "source": [
    "# Count frequency of each transition for all proteins in training data\n",
    "T_aa = np.zeros( (len(aavals), len(ssvals)) )\n",
    "for j in range(len(XTr2)):\n",
    "    for i in range(len(XTr2[j])):\n",
    "        T_aa[ aavals.index(XTr2[j][i]), ssvals.index(YTr2[j][i]) ] += 1\n",
    "T_aa/= T_aa.sum(axis=1, keepdims=True) # normalize to get P(Yt |Xt)\n",
    "assert((T_aa>=0).all())"
   ]
  },
  {
   "cell_type": "code",
   "execution_count": 12,
   "metadata": {
    "id": "zjDHkO68v922"
   },
   "outputs": [],
   "source": [
    "# Given an amino acid sequence aaseq,\n",
    "# determine the secondary structure sequence ssseq\n",
    "def aa_bigram_sample(aaseq):\n",
    "    ssseq = np.array([])\n",
    "    for i in range(len(aaseq)):\n",
    "        ssseq = np.append(ssseq, np.random.choice(ssvals, p=T_aa[aaseq[i],:]) )\n",
    "    return ssseq"
   ]
  },
  {
   "cell_type": "code",
   "execution_count": 13,
   "metadata": {
    "id": "XO2QR-zkt674"
   },
   "outputs": [
    {
     "name": "stdout",
     "output_type": "stream",
     "text": [
      "Amino Acid Bigram Model (20:80)\n",
      "\n",
      "Error rate: 0.24686848898502967\n",
      "\n",
      "CPU times: user 5min 22s, sys: 2.03 s, total: 5min 24s\n",
      "Wall time: 5min 33s\n"
     ]
    }
   ],
   "source": [
    "%%time\n",
    "errors = []\n",
    "trials = 10\n",
    "for i in range(len(XTe2)):\n",
    "    ers = []\n",
    "    for j in range(trials):\n",
    "        ers.append(error(aa_bigram_sample(XTe2[i]),YTe2[i]))\n",
    "    errors.append(np.average(ers))\n",
    "print(\"Amino Acid Bigram Model (20:80)\")\n",
    "print(\"\\nError rate:\", np.average(errors))\n",
    "print()"
   ]
  },
  {
   "cell_type": "markdown",
   "metadata": {
    "id": "CmIMI5FkdrSv"
   },
   "source": [
    "# 3. Secondary Structure Bigram Model\n",
    "This model predicts the first secondary structure based on the first amino acid, then predicts the rest of the secondary structure based on what secondary structure is most likely to follow the previous. This model is very unlikely to perform well."
   ]
  },
  {
   "cell_type": "markdown",
   "metadata": {
    "id": "_-Gn-5UYuKQk"
   },
   "source": [
    "#### Train/Test Set 1 (80:20)"
   ]
  },
  {
   "cell_type": "code",
   "execution_count": 14,
   "metadata": {
    "id": "crqJG6mRdrSv"
   },
   "outputs": [],
   "source": [
    "T_ss = np.zeros( (len(ssvals), len(ssvals)))\n",
    "for j in range(len(YTr1)):\n",
    "    for i in range(len(YTr1[j])):\n",
    "        T_ss[ ssvals.index(YTr1[j][i-1]), ssvals.index(YTr1[j][i]) ] += 1\n",
    "T_ss/= T_ss.sum(axis=1, keepdims=True) # normalize to get P(Yt |Xt)\n",
    "assert((T_ss>=0).all())"
   ]
  },
  {
   "cell_type": "code",
   "execution_count": 15,
   "metadata": {
    "id": "B7X2gHQ_v30f"
   },
   "outputs": [],
   "source": [
    "# Given an amino acid sequence aaseq,\n",
    "# determine the secondary structure sequence ssseq\n",
    "def ss_bigram_sample(aaseq):\n",
    "    ssseq = np.array([np.random.choice(ssvals, p=T_aa[aaseq[0],:])])\n",
    "    for i in range(1,len(aaseq)):\n",
    "        ssseq = np.append(ssseq, np.random.choice(ssvals, p=T_ss[ssseq[i-1],:]) )\n",
    "    return ssseq"
   ]
  },
  {
   "cell_type": "code",
   "execution_count": 16,
   "metadata": {
    "id": "95HNAhpMdrSw"
   },
   "outputs": [
    {
     "name": "stdout",
     "output_type": "stream",
     "text": [
      "Secondary Structure Bigram Model (80:20)\n",
      "\n",
      "Error rate: 0.22385058188411877\n",
      "\n",
      "CPU times: user 1min 20s, sys: 385 ms, total: 1min 20s\n",
      "Wall time: 1min 21s\n"
     ]
    }
   ],
   "source": [
    "%%time\n",
    "errors = []\n",
    "trials = 10\n",
    "for i in range(len(XTe1)):\n",
    "    ers = []\n",
    "    for j in range(trials):\n",
    "        ers.append(error(ss_bigram_sample(XTe1[i]),YTe1[i]))\n",
    "    errors.append(np.average(ers))\n",
    "print(\"Secondary Structure Bigram Model (80:20)\")\n",
    "print(\"\\nError rate:\", np.average(errors))\n",
    "print()"
   ]
  },
  {
   "cell_type": "markdown",
   "metadata": {
    "id": "baCS08ZvuY56"
   },
   "source": [
    "#### Train/Test Set 2 (20:80)"
   ]
  },
  {
   "cell_type": "code",
   "execution_count": 17,
   "metadata": {
    "id": "q6HDI3qOuZYj"
   },
   "outputs": [],
   "source": [
    "T_ss = np.zeros( (len(ssvals), len(ssvals)))\n",
    "for j in range(len(YTr2)):\n",
    "    for i in range(len(YTr2[j])):\n",
    "        T_ss[ ssvals.index(YTr2[j][i-1]), ssvals.index(YTr2[j][i]) ] += 1\n",
    "T_ss/= T_ss.sum(axis=1, keepdims=True) # normalize to get P(Yt |Xt)\n",
    "assert((T_ss>=0).all())"
   ]
  },
  {
   "cell_type": "code",
   "execution_count": 18,
   "metadata": {
    "id": "vswr0rCQv6y3"
   },
   "outputs": [],
   "source": [
    "# Given an amino acid sequence aaseq,\n",
    "# determine the secondary structure sequence ssseq\n",
    "def ss_bigram_sample(aaseq):\n",
    "    ssseq = np.array([np.random.choice(ssvals, p=T_aa[aaseq[0],:])])\n",
    "    for i in range(1,len(aaseq)):\n",
    "        ssseq = np.append(ssseq, np.random.choice(ssvals, p=T_ss[ssseq[i-1],:]) )\n",
    "    return ssseq"
   ]
  },
  {
   "cell_type": "code",
   "execution_count": 19,
   "metadata": {
    "id": "zG73sXQZuZvI"
   },
   "outputs": [
    {
     "name": "stdout",
     "output_type": "stream",
     "text": [
      "Secondary Structure Bigram Model (20:80)\n",
      "\n",
      "Error rate: 0.22246514223958092\n",
      "\n",
      "CPU times: user 5min 10s, sys: 1.6 s, total: 5min 11s\n",
      "Wall time: 5min 14s\n"
     ]
    }
   ],
   "source": [
    "%%time\n",
    "errors = []\n",
    "trials = 10\n",
    "for i in range(len(XTe2)):\n",
    "    ers = []\n",
    "    for j in range(trials):\n",
    "        ers.append(error(ss_bigram_sample(XTe2[i]),YTe2[i]))\n",
    "    errors.append(np.average(ers))\n",
    "print(\"Secondary Structure Bigram Model (20:80)\")\n",
    "print(\"\\nError rate:\", np.average(errors))\n",
    "print()"
   ]
  },
  {
   "cell_type": "markdown",
   "metadata": {
    "id": "J6lFI4cOdrSw"
   },
   "source": [
    "# 4. Amino Acid Trigram Model\n",
    "This model takes into consideration the previous two amino acids and uses them to predict the next most likely secondary structure."
   ]
  },
  {
   "cell_type": "markdown",
   "metadata": {
    "id": "76GzKrp7umcC"
   },
   "source": [
    "#### Train/Test Set 1 (80:20)"
   ]
  },
  {
   "cell_type": "code",
   "execution_count": 20,
   "metadata": {
    "id": "rlcyoyPjdrSw"
   },
   "outputs": [],
   "source": [
    "# Count frequency of each transition for all proteins in training data\n",
    "T2 = np.zeros( (len(aavals), len(aavals), len(ssvals)) )\n",
    "for j in range(len(XTr1)):\n",
    "    for i in range(0, len(XTr1[j])):\n",
    "        if i == 0:\n",
    "            T2[ 0 , aavals.index(XTr1[j][i]), ssvals.index(YTr1[j][i]) ] += 1\n",
    "        else:\n",
    "            T2[ aavals.index(XTr1[j][i-1]), aavals.index(XTr1[j][i]), ssvals.index(YTr1[j][i]) ] += 1\n",
    "T2 /= T2.sum(axis=2, keepdims=True) # normalize\n",
    "np.nan_to_num(T2,copy=False)\n",
    "# Removing and correcting nan entries\n",
    "a,b,c = T2.shape\n",
    "avg = 1 / (c)\n",
    "for i in range(a):\n",
    "    for j in range(b):\n",
    "        if abs(1 - sum(T2[i][j])) > 0.0001:\n",
    "            T2[i][j] = np.full((c), avg)\n",
    "assert((T2>=0).all())"
   ]
  },
  {
   "cell_type": "code",
   "execution_count": 21,
   "metadata": {
    "id": "NhZiBAsadrSx"
   },
   "outputs": [],
   "source": [
    "# Given an amino acid sequence aaseq,\n",
    "# determine the secondary structure sequence ssseq\n",
    "def aa_trigram_sample(aaseq):\n",
    "    ssseq = np.array([])\n",
    "    for i in range(0,len(aaseq)):\n",
    "        if i == 0:\n",
    "            ssseq = np.append(ssseq, np.random.choice(ssvals, p=T_aa[aaseq[i],:]) )\n",
    "        else:\n",
    "            ssseq = np.append(ssseq, np.random.choice(ssvals, p=T2[aaseq[i-1],aaseq[i],:]) )\n",
    "    return ssseq"
   ]
  },
  {
   "cell_type": "code",
   "execution_count": 22,
   "metadata": {
    "id": "zTB5o61PdrSx"
   },
   "outputs": [
    {
     "name": "stdout",
     "output_type": "stream",
     "text": [
      "Amino Acid Trigram Model (80:20)\n",
      "\n",
      "Error rate: 0.2665509523622427\n",
      "\n",
      "CPU times: user 1min 25s, sys: 433 ms, total: 1min 26s\n",
      "Wall time: 1min 27s\n"
     ]
    }
   ],
   "source": [
    "%%time\n",
    "# Trained on random selection of 80% of the data set\n",
    "errors = []\n",
    "trials = 10\n",
    "for i in range(len(XTe1)):\n",
    "    ers = []\n",
    "    for j in range(trials):\n",
    "        ers.append(error(aa_trigram_sample(XTe1[i]),YTe1[i]))\n",
    "    errors.append(np.average(ers))\n",
    "print(\"Amino Acid Trigram Model (80:20)\")\n",
    "print(\"\\nError rate:\", np.average(errors))\n",
    "print()"
   ]
  },
  {
   "cell_type": "markdown",
   "metadata": {
    "id": "sQzV4iJAusQI"
   },
   "source": [
    "#### Train/Test Set 2 (20:80)"
   ]
  },
  {
   "cell_type": "code",
   "execution_count": 23,
   "metadata": {
    "id": "oGbuciN8us3R"
   },
   "outputs": [],
   "source": [
    "# Count frequency of each transition for all proteins in training data\n",
    "T2 = np.zeros( (len(aavals), len(aavals), len(ssvals)) )\n",
    "for j in range(len(XTr2)):\n",
    "    for i in range(0, len(XTr2[j])):\n",
    "        if i == 0:\n",
    "            T2[ 0 , aavals.index(XTr2[j][i]), ssvals.index(YTr2[j][i]) ] += 1\n",
    "        else:\n",
    "            T2[ aavals.index(XTr2[j][i-1]), aavals.index(XTr2[j][i]), ssvals.index(YTr2[j][i]) ] += 1\n",
    "T2 /= T2.sum(axis=2, keepdims=True) # normalize\n",
    "np.nan_to_num(T2,copy=False)\n",
    "# Removing and correcting nan entries\n",
    "a,b,c = T2.shape\n",
    "avg = 1 / (c)\n",
    "for i in range(a):\n",
    "    for j in range(b):\n",
    "        if abs(1 - sum(T2[i][j])) > 0.0001:\n",
    "            T2[i][j] = np.full((c), avg)\n",
    "assert((T2>=0).all())"
   ]
  },
  {
   "cell_type": "code",
   "execution_count": 24,
   "metadata": {
    "id": "RPhUACprutZU"
   },
   "outputs": [],
   "source": [
    "# Given an amino acid sequence aaseq,\n",
    "# determine the secondary structure sequence ssseq\n",
    "def aa_trigram_sample(aaseq):\n",
    "    ssseq = np.array([])\n",
    "    for i in range(0,len(aaseq)):\n",
    "        if i == 0:\n",
    "            ssseq = np.append(ssseq, np.random.choice(ssvals, p=T_aa[aaseq[i],:]) )\n",
    "        else:\n",
    "            ssseq = np.append(ssseq, np.random.choice(ssvals, p=T2[aaseq[i-1],aaseq[i],:]) )\n",
    "    return ssseq"
   ]
  },
  {
   "cell_type": "code",
   "execution_count": 25,
   "metadata": {
    "id": "if5DgkdMuyZi"
   },
   "outputs": [
    {
     "name": "stdout",
     "output_type": "stream",
     "text": [
      "Amino Acid Trigram Model (20:80)\n",
      "\n",
      "Error rate: 0.265099561111494\n",
      "\n",
      "CPU times: user 5min 14s, sys: 1.52 s, total: 5min 16s\n",
      "Wall time: 5min 19s\n"
     ]
    }
   ],
   "source": [
    "%%time\n",
    "# Trained on random selection of 80% of the data set\n",
    "errors = []\n",
    "trials = 10\n",
    "for i in range(len(XTe2)):\n",
    "    ers = []\n",
    "    for j in range(trials):\n",
    "        ers.append(error(aa_trigram_sample(XTe2[i]),YTe2[i]))\n",
    "    errors.append(np.average(ers))\n",
    "print(\"Amino Acid Trigram Model (20:80)\")\n",
    "print(\"\\nError rate:\", np.average(errors))\n",
    "print()"
   ]
  },
  {
   "cell_type": "markdown",
   "metadata": {
    "id": "vK_-7-d_drSx"
   },
   "source": [
    "# 5. Amino Acid Quadgram Model\n",
    "This model takes into consideration the previous three amino acids and uses them to predict the next most likely secondary structure."
   ]
  },
  {
   "cell_type": "markdown",
   "metadata": {
    "id": "0YkAFARAvOll"
   },
   "source": [
    "#### Train/Test Set 1 (80:20)"
   ]
  },
  {
   "cell_type": "code",
   "execution_count": 26,
   "metadata": {
    "id": "JP7VtQPXdrSx"
   },
   "outputs": [],
   "source": [
    "# Count frequency of each transition for all proteins in training data\n",
    "T3 = np.zeros( (len(aavals), len(aavals), len(aavals), len(ssvals)) )\n",
    "for j in range(len(XTr1)):\n",
    "    for i in range(0, len(XTr1[j])):\n",
    "        if i == 0:\n",
    "            T3[ 0 , 0, aavals.index(XTr1[j][i]), ssvals.index(YTr1[j][i]) ] += 1\n",
    "        elif i==1:\n",
    "            T3[ 0, aavals.index(XTr1[j][i-1]), aavals.index(XTr1[j][i]), ssvals.index(YTr1[j][i]) ] += 1\n",
    "        else:\n",
    "            T3[ aavals.index(XTr1[j][i-2]), aavals.index(XTr1[j][i-1]), aavals.index(XTr1[j][i]), ssvals.index(YTr1[j][i]) ] += 1\n",
    "T3 /= T3.sum(axis=3, keepdims=True) # normalize\n",
    "np.nan_to_num(T3,copy=False)\n",
    "# Removing and correcting nan entries\n",
    "a,b,c,d = T3.shape\n",
    "avg = 1 / (d)\n",
    "for i in range(a):\n",
    "    for j in range(b):\n",
    "        for k in range(c):\n",
    "            if abs(1 - sum(T3[i][j][k])) > 0.0001:\n",
    "                T3[i][j][k] = np.full((d), avg)\n",
    "assert((T3>=0).all())"
   ]
  },
  {
   "cell_type": "code",
   "execution_count": 27,
   "metadata": {
    "id": "dOdiX9MidrSy"
   },
   "outputs": [],
   "source": [
    "# Given an amino acid sequence aaseq,\n",
    "# determine the secondary structure sequence ssseq\n",
    "def aa_quadgram_sample(aaseq):\n",
    "    ssseq = np.array([])\n",
    "    for i in range(0,len(aaseq)):\n",
    "        if i == 0:\n",
    "            ssseq = np.append(ssseq, np.random.choice(ssvals, p=T_aa[aaseq[i],:]) )\n",
    "        elif i==1:\n",
    "            ssseq = np.append(ssseq, np.random.choice(ssvals, p=T2[aaseq[i-1],aaseq[i],:]) )\n",
    "        else:\n",
    "            ssseq = np.append(ssseq, np.random.choice(ssvals, p=T3[aaseq[i-2],aaseq[i-1],aaseq[i],:]) )\n",
    "    return ssseq"
   ]
  },
  {
   "cell_type": "code",
   "execution_count": 28,
   "metadata": {
    "id": "Eteyy3qNdrSy"
   },
   "outputs": [
    {
     "name": "stdout",
     "output_type": "stream",
     "text": [
      "Amino Acid Quadgram Model (80:20)\n",
      "\n",
      "Error rate: 0.28844038839728703\n",
      "\n",
      "CPU times: user 1min 21s, sys: 391 ms, total: 1min 22s\n",
      "Wall time: 1min 22s\n"
     ]
    }
   ],
   "source": [
    "%%time\n",
    "# Trained on random selection of 80% of the data set\n",
    "errors = []\n",
    "trials = 10\n",
    "for i in range(len(XTe1)):\n",
    "    ers = []\n",
    "    for j in range(trials):\n",
    "        ers.append(error(aa_quadgram_sample(XTe1[i]),YTe1[i]))\n",
    "    errors.append(np.average(ers))\n",
    "print(\"Amino Acid Quadgram Model (80:20)\")\n",
    "print(\"\\nError rate:\", np.average(errors))\n",
    "print()"
   ]
  },
  {
   "cell_type": "markdown",
   "metadata": {
    "id": "bG_KhWcHvSUl"
   },
   "source": [
    "#### Train/Test Set 2 (20:80)"
   ]
  },
  {
   "cell_type": "code",
   "execution_count": 29,
   "metadata": {
    "id": "9iqAqDaYvTK-"
   },
   "outputs": [],
   "source": [
    "# Count frequency of each transition for all proteins in training data\n",
    "T3 = np.zeros( (len(aavals), len(aavals), len(aavals), len(ssvals)) )\n",
    "for j in range(len(XTr2)):\n",
    "    for i in range(0, len(XTr2[j])):\n",
    "        if i == 0:\n",
    "            T3[ 0 , 0, aavals.index(XTr2[j][i]), ssvals.index(YTr2[j][i]) ] += 1\n",
    "        elif i==1:\n",
    "            T3[ 0, aavals.index(XTr2[j][i-1]), aavals.index(XTr2[j][i]), ssvals.index(YTr2[j][i]) ] += 1\n",
    "        else:\n",
    "            T3[ aavals.index(XTr2[j][i-2]), aavals.index(XTr2[j][i-1]), aavals.index(XTr2[j][i]), ssvals.index(YTr2[j][i]) ] += 1\n",
    "T3 /= T3.sum(axis=3, keepdims=True) # normalize\n",
    "np.nan_to_num(T3,copy=False)\n",
    "# Removing and correcting nan entries\n",
    "a,b,c,d = T3.shape\n",
    "avg = 1 / (d)\n",
    "for i in range(a):\n",
    "    for j in range(b):\n",
    "        for k in range(c):\n",
    "            if abs(1 - sum(T3[i][j][k])) > 0.0001:\n",
    "                T3[i][j][k] = np.full((d), avg)\n",
    "assert((T3>=0).all())"
   ]
  },
  {
   "cell_type": "code",
   "execution_count": 30,
   "metadata": {
    "id": "_8iLWwBqvT-r"
   },
   "outputs": [],
   "source": [
    "# Given an amino acid sequence aaseq,\n",
    "# determine the secondary structure sequence ssseq\n",
    "def aa_quadgram_sample(aaseq):\n",
    "    ssseq = np.array([])\n",
    "    for i in range(0,len(aaseq)):\n",
    "        if i == 0:\n",
    "            ssseq = np.append(ssseq, np.random.choice(ssvals, p=T_aa[aaseq[i],:]) )\n",
    "        elif i==1:\n",
    "            ssseq = np.append(ssseq, np.random.choice(ssvals, p=T2[aaseq[i-1],aaseq[i],:]) )\n",
    "        else:\n",
    "            ssseq = np.append(ssseq, np.random.choice(ssvals, p=T3[aaseq[i-2],aaseq[i-1],aaseq[i],:]) )\n",
    "    return ssseq"
   ]
  },
  {
   "cell_type": "code",
   "execution_count": 31,
   "metadata": {
    "id": "Z_120PC9vTjl"
   },
   "outputs": [
    {
     "name": "stdout",
     "output_type": "stream",
     "text": [
      "Amino Acid Quadgram Model (20:80)\n",
      "\n",
      "Error rate: 0.28597876694707375\n",
      "\n",
      "CPU times: user 5min 17s, sys: 1.48 s, total: 5min 18s\n",
      "Wall time: 5min 21s\n"
     ]
    }
   ],
   "source": [
    "%%time\n",
    "# Trained on random selection of 80% of the data set\n",
    "errors = []\n",
    "trials = 10\n",
    "for i in range(len(XTe2)):\n",
    "    ers = []\n",
    "    for j in range(trials):\n",
    "        ers.append(error(aa_quadgram_sample(XTe2[i]),YTe2[i]))\n",
    "    errors.append(np.average(ers))\n",
    "print(\"Amino Acid Quadgram Model (20:80)\")\n",
    "print(\"\\nError rate:\", np.average(errors))\n",
    "print()"
   ]
  },
  {
   "cell_type": "markdown",
   "metadata": {
    "id": "KgrJHqZWdrSy"
   },
   "source": [
    "# 6. Stochastic Random Model\n",
    "In order to truly evaluate the quality of the previous models, we should compare them to an entirely random model"
   ]
  },
  {
   "cell_type": "code",
   "execution_count": 32,
   "metadata": {
    "id": "-Fhn4KoAdrSy"
   },
   "outputs": [],
   "source": [
    "def random_sample(aaseq):\n",
    "    ssseq = np.array([])\n",
    "    for i in range(len(aaseq)):\n",
    "        ssseq = np.append( ssseq, np.random.choice(ssvals) )\n",
    "    return ssseq"
   ]
  },
  {
   "cell_type": "code",
   "execution_count": 33,
   "metadata": {
    "id": "-qyz46qydrSz"
   },
   "outputs": [
    {
     "name": "stdout",
     "output_type": "stream",
     "text": [
      "Stochastic Random Model\n",
      "Error rate: 0.12470606758441838\n",
      "\n",
      "\n",
      "CPU times: user 3min 53s, sys: 1.17 s, total: 3min 54s\n",
      "Wall time: 3min 55s\n"
     ]
    }
   ],
   "source": [
    "%%time\n",
    "errors = []\n",
    "trials = 10\n",
    "for i in range(len(X)):\n",
    "    ers = []\n",
    "    for j in range(trials):\n",
    "        ers.append(error(random_sample(X[i]),Y[i]))\n",
    "    errors.append(np.average(ers))\n",
    "print(\"Stochastic Random Model\")\n",
    "print(\"Error rate:\", np.average(errors))\n",
    "print()\n",
    "print()"
   ]
  }
 ],
 "metadata": {
  "colab": {
   "provenance": []
  },
  "kernelspec": {
   "display_name": "Python 3 (ipykernel)",
   "language": "python",
   "name": "python3"
  },
  "language_info": {
   "codemirror_mode": {
    "name": "ipython",
    "version": 3
   },
   "file_extension": ".py",
   "mimetype": "text/x-python",
   "name": "python",
   "nbconvert_exporter": "python",
   "pygments_lexer": "ipython3",
   "version": "3.10.9"
  }
 },
 "nbformat": 4,
 "nbformat_minor": 1
}
